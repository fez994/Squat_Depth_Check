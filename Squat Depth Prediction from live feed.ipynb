{
 "cells": [
  {
   "cell_type": "markdown",
   "id": "dd4dccc5",
   "metadata": {},
   "source": [
    "# Install and import dependencies"
   ]
  },
  {
   "cell_type": "code",
   "execution_count": 1,
   "id": "263a9fdb",
   "metadata": {},
   "outputs": [
    {
     "name": "stdout",
     "output_type": "stream",
     "text": [
      "Requirement already satisfied: mediapipe in /Users/federicodente/opt/anaconda3/lib/python3.9/site-packages (0.8.9.1)\n",
      "Requirement already satisfied: opencv-python in /Users/federicodente/opt/anaconda3/lib/python3.9/site-packages (4.5.5.62)\n",
      "Requirement already satisfied: numpy in /Users/federicodente/opt/anaconda3/lib/python3.9/site-packages (from mediapipe) (1.20.3)\n",
      "Requirement already satisfied: opencv-contrib-python in /Users/federicodente/opt/anaconda3/lib/python3.9/site-packages (from mediapipe) (4.5.5.62)\n",
      "Requirement already satisfied: matplotlib in /Users/federicodente/opt/anaconda3/lib/python3.9/site-packages (from mediapipe) (3.4.3)\n",
      "Requirement already satisfied: attrs>=19.1.0 in /Users/federicodente/opt/anaconda3/lib/python3.9/site-packages (from mediapipe) (21.2.0)\n",
      "Requirement already satisfied: absl-py in /Users/federicodente/opt/anaconda3/lib/python3.9/site-packages (from mediapipe) (1.0.0)\n",
      "Requirement already satisfied: protobuf>=3.11.4 in /Users/federicodente/opt/anaconda3/lib/python3.9/site-packages (from mediapipe) (3.19.3)\n",
      "Requirement already satisfied: six in /Users/federicodente/opt/anaconda3/lib/python3.9/site-packages (from absl-py->mediapipe) (1.16.0)\n",
      "Requirement already satisfied: python-dateutil>=2.7 in /Users/federicodente/opt/anaconda3/lib/python3.9/site-packages (from matplotlib->mediapipe) (2.8.2)\n",
      "Requirement already satisfied: pillow>=6.2.0 in /Users/federicodente/opt/anaconda3/lib/python3.9/site-packages (from matplotlib->mediapipe) (8.4.0)\n",
      "Requirement already satisfied: kiwisolver>=1.0.1 in /Users/federicodente/opt/anaconda3/lib/python3.9/site-packages (from matplotlib->mediapipe) (1.3.1)\n",
      "Requirement already satisfied: cycler>=0.10 in /Users/federicodente/opt/anaconda3/lib/python3.9/site-packages (from matplotlib->mediapipe) (0.10.0)\n",
      "Requirement already satisfied: pyparsing>=2.2.1 in /Users/federicodente/opt/anaconda3/lib/python3.9/site-packages (from matplotlib->mediapipe) (3.0.4)\n"
     ]
    }
   ],
   "source": [
    "!pip install mediapipe opencv-python"
   ]
  },
  {
   "cell_type": "code",
   "execution_count": 2,
   "id": "15aff7e0",
   "metadata": {},
   "outputs": [],
   "source": [
    "import cv2\n",
    "import mediapipe as mp \n",
    "import numpy as np \n",
    "# Importing pose estimation model \n",
    "mp_drawing = mp.solutions.drawing_utils\n",
    "mp_pose = mp.solutions.pose"
   ]
  },
  {
   "cell_type": "code",
   "execution_count": null,
   "id": "bfb55fe3",
   "metadata": {},
   "outputs": [],
   "source": [
    "# Testing video feed from webcam\n",
    "cap = cv2.VideoCapture(0)\n",
    "while cap.isOpened():\n",
    "    ret, frame = cap.read()\n",
    "    cv2.imshow('Mediapipe Feed', frame)\n",
    "    \n",
    "    if cv2.waitKey(10) & 0XFF == ord('q'):\n",
    "        break\n",
    "\n",
    "cap.release()\n",
    "cv2.destroyAllWindows()"
   ]
  },
  {
   "cell_type": "markdown",
   "id": "217f1b53",
   "metadata": {},
   "source": [
    "# Make Detections"
   ]
  },
  {
   "cell_type": "code",
   "execution_count": null,
   "id": "1dd326ae",
   "metadata": {},
   "outputs": [],
   "source": [
    "# Testing video feed from webcam\n",
    "cap = cv2.VideoCapture(0)\n",
    "# Setup mediaPipe instance\n",
    "''' \n",
    "Accessing our pose estimation model, setting detection confidence to 50% and tracking confidence to 50%\n",
    "Fine tune the confidence during live testing\n",
    "'''\n",
    "with mp_pose.Pose(min_detection_confidence=0.5, min_tracking_confidence=0.5) as pose:\n",
    "    while cap.isOpened():\n",
    "        ret, frame = cap.read()\n",
    "        \n",
    "        '''Feed from openCV in in BGR, in order to use openpipe the video feed must be RGB'''\n",
    "        # Recolor image\n",
    "        image = cv2.cvtColor(frame, cv2.COLOR_BGR2RGB)\n",
    "        image.flags.writeable = False\n",
    "        \n",
    "        # Make detections\n",
    "        results = pose.process(image)\n",
    "        \n",
    "        # Recoloring the image back to BGR format\n",
    "        image.flags.writeable = True\n",
    "        image = cv2.cvtColor(image, cv2.COLOR_RGB2BGR)\n",
    "        \n",
    "        # Render detections to live feed\n",
    "        mp_drawing.draw_landmarks(image, results.pose_landmarks, mp_pose.POSE_CONNECTIONS,\n",
    "                                 mp_drawings.DrawingSpec(color=(245,117,66), thickness=2, circle_radius=2),\n",
    "                                 mp_drawings.DrawingSpec(color=(245,66,230), thickness=2, circle_radius=2)\n",
    "                                 )\n",
    "        \n",
    "        \n",
    "        cv2.imshow('Mediapipe Feed', image)\n",
    "\n",
    "        if cv2.waitKey(10) & 0XFF == ord('q'):\n",
    "            break\n",
    "\n",
    "    cap.release()\n",
    "    cv2.destroyAllWindows()"
   ]
  },
  {
   "cell_type": "markdown",
   "id": "189bfdb5",
   "metadata": {},
   "source": [
    "# Determining Joints\n"
   ]
  },
  {
   "cell_type": "markdown",
   "id": "7b243cc1",
   "metadata": {},
   "source": [
    "<img src='https://google.github.io/mediapipe/images/mobile/pose_tracking_full_body_landmarks.png'>"
   ]
  },
  {
   "cell_type": "code",
   "execution_count": null,
   "id": "01feef4f",
   "metadata": {},
   "outputs": [],
   "source": [
    "# Testing video feed from webcam\n",
    "cap = cv2.VideoCapture(0)\n",
    "# Setup mediaPipe instance\n",
    "''' \n",
    "Accessing our pose estimation model, setting detection confidence to 50% and tracking confidence to 50%\n",
    "Fine tune the confidence during live testing\n",
    "'''\n",
    "with mp_pose.Pose(min_detection_confidence=0.5, min_tracking_confidence=0.5) as pose:\n",
    "    while cap.isOpened():\n",
    "        ret, frame = cap.read()\n",
    "        \n",
    "        '''Feed from openCV in in BGR, in order to use openpipe the video feed must be RGB'''\n",
    "        # Recolor image\n",
    "        image = cv2.cvtColor(frame, cv2.COLOR_BGR2RGB)\n",
    "        image.flags.writeable = False\n",
    "        \n",
    "        # Make detections\n",
    "        results = pose.process(image)\n",
    "        \n",
    "        # Recoloring the image back to BGR format\n",
    "        image.flags.writeable = True\n",
    "        image = cv2.cvtColor(image, cv2.COLOR_RGB2BGR)\n",
    "        \n",
    "        # Extract landdmarks\n",
    "        try:\n",
    "            landmarks = results.pose_landmarks.landmark\n",
    "        except: \n",
    "            pass\n",
    "        \n",
    "        # Render detections to live feed\n",
    "        mp_drawing.draw_landmarks(image, results.pose_landmarks, mp_pose.POSE_CONNECTIONS,\n",
    "                                 mp_drawings.DrawingSpec(color=(245,117,66), thickness=2, circle_radius=2),\n",
    "                                 mp_drawings.DrawingSpec(color=(245,66,230), thickness=2, circle_radius=2)\n",
    "                                 )\n",
    "        \n",
    "        \n",
    "        cv2.imshow('Mediapipe Feed', image)\n",
    "\n",
    "        if cv2.waitKey(10) & 0XFF == ord('q'):\n",
    "            break\n",
    "\n",
    "    cap.release()\n",
    "    cv2.destroyAllWindows()"
   ]
  },
  {
   "cell_type": "code",
   "execution_count": null,
   "id": "abb7527c",
   "metadata": {},
   "outputs": [],
   "source": [
    "len(landmarks)"
   ]
  },
  {
   "cell_type": "markdown",
   "id": "c9bba50b",
   "metadata": {},
   "source": [
    "# Calculating Angles"
   ]
  },
  {
   "cell_type": "code",
   "execution_count": 3,
   "id": "a7453b8d",
   "metadata": {},
   "outputs": [],
   "source": [
    "def calculate_angle(a,b,c):\n",
    "    a = np.array(a) # First\n",
    "    b = np.array(b) # Mid\n",
    "    c = np.array(c) # End\n",
    "    \n",
    "    radians = np.arctan2(c[1]-b[1], c[0]-b[0]) - np.arctan2(a[1]-b[1], a[0]-b[0])\n",
    "    angle = np.abs(radians*180.0/np.pi)\n",
    "    \n",
    "    if angle >180.0:\n",
    "        angle = 360-angle\n",
    "        \n",
    "    return angle "
   ]
  },
  {
   "cell_type": "markdown",
   "id": "36e5cdd0",
   "metadata": {},
   "source": [
    "# Putting it all togheter"
   ]
  },
  {
   "cell_type": "code",
   "execution_count": 7,
   "id": "ad6b5cb0",
   "metadata": {},
   "outputs": [],
   "source": [
    "cap = cv2.VideoCapture(0)\n",
    "\n",
    "# Curl counter variables\n",
    "counter = 0 \n",
    "stage = None\n",
    "\n",
    "## Setup mediapipe instance\n",
    "with mp_pose.Pose(min_detection_confidence=0.5, min_tracking_confidence=0.5) as pose:\n",
    "    while cap.isOpened():\n",
    "        ret, frame = cap.read()\n",
    "        \n",
    "        # Recolor image to RGB\n",
    "        image = cv2.cvtColor(frame, cv2.COLOR_BGR2RGB)\n",
    "        image.flags.writeable = False\n",
    "      \n",
    "        # Make detection\n",
    "        results = pose.process(image)\n",
    "    \n",
    "        # Recolor back to BGR\n",
    "        image.flags.writeable = True\n",
    "        image = cv2.cvtColor(image, cv2.COLOR_RGB2BGR)\n",
    "        \n",
    "        # Extract landmarks\n",
    "        try:\n",
    "            landmarks = results.pose_landmarks.landmark\n",
    "            \n",
    "            # Get coordinates\n",
    "            shoulder = [landmarks[mp_pose.PoseLandmark.LEFT_HIP.value].x,landmarks[mp_pose.PoseLandmark.LEFT_HIP.value].y]\n",
    "            elbow = [landmarks[mp_pose.PoseLandmark.LEFT_KNEE.value].x,landmarks[mp_pose.PoseLandmark.LEFT_KNEE.value].y]\n",
    "            wrist = [landmarks[mp_pose.PoseLandmark.LEFT_ANKLE.value].x,landmarks[mp_pose.PoseLandmark.LEFT_ANKLE.value].y]\n",
    "            \n",
    "            # Calculate angle\n",
    "            angle = calculate_angle(shoulder, elbow, wrist)\n",
    "            \n",
    "            # Visualize angle\n",
    "            cv2.putText(image, str(angle), \n",
    "                           tuple(np.multiply(elbow, [640, 480]).astype(int)), \n",
    "                           cv2.FONT_HERSHEY_SIMPLEX, 0.5, (255, 255, 255), 2, cv2.LINE_AA\n",
    "                                )\n",
    "            \n",
    "            # Squat Depth Logic\n",
    "            if angle > 90:\n",
    "                stage = \"HIGH\"\n",
    "            if angle < 90:\n",
    "                stage= \"DEEP\"\n",
    "            if angle == 90:\n",
    "                stage = 'PARALLEL'\n",
    "            \n",
    "             \n",
    "        except:\n",
    "            pass\n",
    "        \n",
    "        # Render box depth\n",
    "        # Setup status box\n",
    "        cv2.rectangle(image, (0,0), (300,73), (245,117,16), -1)\n",
    "        \n",
    "        \n",
    "        # Stage data\n",
    "        cv2.putText(image, 'STAGE', (65,12), \n",
    "                    cv2.FONT_HERSHEY_SIMPLEX, 0.5, (0,0,0), 1, cv2.LINE_AA)\n",
    "        cv2.putText(image, stage, \n",
    "                    (60,60), \n",
    "                    cv2.FONT_HERSHEY_SIMPLEX, 2, (255,255,255), 2, cv2.LINE_AA)\n",
    "        \n",
    "        \n",
    "        # Render detections\n",
    "        mp_drawing.draw_landmarks(image, results.pose_landmarks, mp_pose.POSE_CONNECTIONS,\n",
    "                                mp_drawing.DrawingSpec(color=(245,117,66), thickness=2, circle_radius=2), \n",
    "                                mp_drawing.DrawingSpec(color=(245,66,230), thickness=2, circle_radius=2) \n",
    "                                 )               \n",
    "        \n",
    "        cv2.imshow('Mediapipe Feed', image)\n",
    "\n",
    "        if cv2.waitKey(10) & 0xFF == ord('q'):\n",
    "            break\n",
    "\n",
    "    cap.release()\n",
    "    cv2.destroyAllWindows()"
   ]
  },
  {
   "cell_type": "code",
   "execution_count": null,
   "id": "72f59da9",
   "metadata": {},
   "outputs": [],
   "source": []
  }
 ],
 "metadata": {
  "kernelspec": {
   "display_name": "Python 3 (ipykernel)",
   "language": "python",
   "name": "python3"
  },
  "language_info": {
   "codemirror_mode": {
    "name": "ipython",
    "version": 3
   },
   "file_extension": ".py",
   "mimetype": "text/x-python",
   "name": "python",
   "nbconvert_exporter": "python",
   "pygments_lexer": "ipython3",
   "version": "3.9.7"
  }
 },
 "nbformat": 4,
 "nbformat_minor": 5
}
